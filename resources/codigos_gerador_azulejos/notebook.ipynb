{
 "cells": [
  {
   "cell_type": "markdown",
   "id": "dbface8e-9d1c-45a8-9832-7b088eb0271b",
   "metadata": {},
   "source": [
    "## Azulejo generator"
   ]
  },
  {
   "cell_type": "code",
   "execution_count": 1,
   "id": "81a0addc-964b-477c-96a6-d277aab3c667",
   "metadata": {},
   "outputs": [],
   "source": [
    "import time\n",
    "from utils.azulejoGenerator import single_mosaic, multiple_mosaics"
   ]
  },
  {
   "cell_type": "markdown",
   "id": "32510d3e-8d5f-4639-b5cc-c8c3d0f204f2",
   "metadata": {},
   "source": [
    "### Single Mosaic"
   ]
  },
  {
   "cell_type": "code",
   "execution_count": 6,
   "id": "d785f5c0-3251-4833-a687-40b3866f4f8a",
   "metadata": {},
   "outputs": [],
   "source": [
    "start_time = time.time()\n",
    "single_mosaic(image_name='casaache.png')\n",
    "t = time.time() - start_time"
   ]
  },
  {
   "cell_type": "code",
   "execution_count": 7,
   "id": "e39a7c25-49e8-44f4-9851-a411497276c6",
   "metadata": {},
   "outputs": [
    {
     "name": "stdout",
     "output_type": "stream",
     "text": [
      "Tempo de execução (s): 0.5306367874145508\n"
     ]
    }
   ],
   "source": [
    "print('Tempo de execução (s):', t)"
   ]
  },
  {
   "cell_type": "markdown",
   "id": "2260449c-fb1c-4b09-abe4-fe7a27a5c7ab",
   "metadata": {},
   "source": [
    "### Multiple Mosaics"
   ]
  },
  {
   "cell_type": "code",
   "execution_count": 2,
   "id": "87c58a41-41b4-4c06-b9be-75c70976f457",
   "metadata": {},
   "outputs": [
    {
     "name": "stdout",
     "output_type": "stream",
     "text": [
      "casaache\n",
      "fotoativa\n",
      "ihgp\n",
      "largoredondo_1\n",
      "largoredondo_2\n",
      "particular1\n",
      "particular2\n",
      "pinho\n",
      "pizzeria\n",
      "sesc\n",
      "soberano\n",
      "tomazia\n"
     ]
    }
   ],
   "source": [
    "start_time = time.time()\n",
    "multiple_mosaics(input_dir='input', n_images=2)\n",
    "t = time.time() - start_time"
   ]
  },
  {
   "cell_type": "code",
   "execution_count": 3,
   "id": "480c55e6-a5ec-4875-abfc-d809ef1f9b70",
   "metadata": {},
   "outputs": [
    {
     "name": "stdout",
     "output_type": "stream",
     "text": [
      "Tempo de execução (s): 187.02872896194458\n"
     ]
    }
   ],
   "source": [
    "print('Tempo de execução (s):', t)"
   ]
  },
  {
   "cell_type": "code",
   "execution_count": null,
   "id": "42306c6e-c4e5-4fb4-85b7-4c222167ff55",
   "metadata": {},
   "outputs": [],
   "source": []
  }
 ],
 "metadata": {
  "kernelspec": {
   "display_name": "Python 3 (ipykernel)",
   "language": "python",
   "name": "python3"
  },
  "language_info": {
   "codemirror_mode": {
    "name": "ipython",
    "version": 3
   },
   "file_extension": ".py",
   "mimetype": "text/x-python",
   "name": "python",
   "nbconvert_exporter": "python",
   "pygments_lexer": "ipython3",
   "version": "3.8.12"
  }
 },
 "nbformat": 4,
 "nbformat_minor": 5
}
